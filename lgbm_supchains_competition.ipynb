{
 "cells": [
  {
   "cell_type": "code",
   "execution_count": 2,
   "metadata": {},
   "outputs": [],
   "source": [
    "import lightgbm as lgbm\n",
    "import pandas as pd\n",
    "import numpy as np"
   ]
  },
  {
   "cell_type": "code",
   "execution_count": 6,
   "metadata": {},
   "outputs": [
    {
     "data": {
      "text/plain": [
       "Client  Warehouse  Product  Value            \n",
       "0       1          367      Price  2020-07-06    10.900001\n",
       "                                   2020-07-13    10.900001\n",
       "                                   2020-07-20    10.900001\n",
       "                                   2020-07-27    15.582857\n",
       "                                   2020-08-03    27.289999\n",
       "                                                   ...    \n",
       "46      318        14294    Price  2023-08-07    37.110000\n",
       "                                   2023-08-28    46.990000\n",
       "                                   2023-09-04    45.040000\n",
       "                                   2023-09-11    46.990000\n",
       "                                   2023-09-18    34.090000\n",
       "Length: 722573, dtype: float64"
      ]
     },
     "execution_count": 6,
     "metadata": {},
     "output_type": "execute_result"
    }
   ],
   "source": [
    "price = pd.read_csv('./data/supchains_competition/Phase 0 - Price.csv')\n",
    "price[\"Value\"] = \"Price\"\n",
    "price = price.set_index([\"Client\", \"Warehouse\",\"Product\", \"Value\"]).stack()\n",
    "price"
   ]
  },
  {
   "cell_type": "code",
   "execution_count": 9,
   "metadata": {},
   "outputs": [
    {
     "data": {
      "text/plain": [
       "Client  Warehouse  Product  Value            \n",
       "0       1          367      Sales  2020-07-06    7.0\n",
       "                                   2020-07-13    7.0\n",
       "                                   2020-07-20    7.0\n",
       "                                   2020-07-27    7.0\n",
       "                                   2020-08-03    7.0\n",
       "                                                ... \n",
       "46      318        14294    Sales  2023-09-04    4.0\n",
       "                                   2023-09-11    3.0\n",
       "                                   2023-09-18    5.0\n",
       "                                   2023-09-25    0.0\n",
       "                                   2023-10-02    0.0\n",
       "Length: 2559010, dtype: float64"
      ]
     },
     "execution_count": 9,
     "metadata": {},
     "output_type": "execute_result"
    }
   ],
   "source": [
    "# Read sales data\n",
    "sales = pd.read_csv(\"./data/supchains_competition/Phase 0 - Sales.csv\", na_values=np.nan)\n",
    "sales[\"Value\"] = \"Sales\"\n",
    "sales = sales.set_index([\"Client\", \"Warehouse\",\"Product\", \"Value\"]).stack()\n",
    "sales"
   ]
  }
 ],
 "metadata": {
  "kernelspec": {
   "display_name": "Python 3",
   "language": "python",
   "name": "python3"
  },
  "language_info": {
   "codemirror_mode": {
    "name": "ipython",
    "version": 3
   },
   "file_extension": ".py",
   "mimetype": "text/x-python",
   "name": "python",
   "nbconvert_exporter": "python",
   "pygments_lexer": "ipython3",
   "version": "3.12.5"
  }
 },
 "nbformat": 4,
 "nbformat_minor": 2
}
