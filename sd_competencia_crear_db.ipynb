{
 "cells": [
  {
   "cell_type": "code",
   "execution_count": null,
   "metadata": {},
   "outputs": [],
   "source": [
    "import pandas as pd\n",
    "import sqlite3\n",
    "\n",
    "# Load Excel sheets as DataFrames\n",
    "exdb = pd.read_excel('./data/sd_competencia/sd_competencia_db_4.xlsx', sheet_name=None)\n",
    "\n",
    "# Establish the database connection\n",
    "connection = sqlite3.connect('./data/sd_competencia/sd_competencia_db.db')\n",
    "\n",
    "# Save each Excel sheet as a table in the database\n",
    "for sheet_name, data in exdb.items():\n",
    "    data.to_sql(sheet_name, connection, if_exists='replace', index=False)\n",
    "    \n",
    "    if sheet_name == 'Demanda_Historica':\n",
    "        # Load and preprocess the demand data\n",
    "        dem = data\n",
    "        #dem = dem.drop(dem.columns[-2:], axis=1)  # Drop the last two columns\n",
    "\n",
    "        # Unpivot the demand data to create SKU and quantity columns\n",
    "        demand_unpivoted = dem.melt(id_vars=[dem.columns[0], dem.columns[1], dem.columns[2], dem.columns[3]], \n",
    "                                    var_name='sku', \n",
    "                                    value_name='quantity')\n",
    "\n",
    "        # Save the unpivoted demand data to the database\n",
    "        demand_unpivoted.to_sql('Demanda_Historica_Melted', connection, if_exists='replace', index=False)\n",
    "\n",
    "# Optional: Close the database connection\n",
    "connection.close()"
   ]
  }
 ],
 "metadata": {
  "kernelspec": {
   "display_name": "Python 3",
   "language": "python",
   "name": "python3"
  },
  "language_info": {
   "codemirror_mode": {
    "name": "ipython",
    "version": 3
   },
   "file_extension": ".py",
   "mimetype": "text/x-python",
   "name": "python",
   "nbconvert_exporter": "python",
   "pygments_lexer": "ipython3",
   "version": "3.12.6"
  }
 },
 "nbformat": 4,
 "nbformat_minor": 2
}
