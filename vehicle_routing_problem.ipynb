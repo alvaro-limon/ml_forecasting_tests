{
 "cells": [
  {
   "cell_type": "code",
   "execution_count": 27,
   "metadata": {},
   "outputs": [],
   "source": [
    "from ortools.constraint_solver import routing_enums_pb2\n",
    "from ortools.constraint_solver import pywrapcp\n",
    "\n",
    "import pandas as pd\n",
    "import numpy as np"
   ]
  },
  {
   "cell_type": "code",
   "execution_count": 28,
   "metadata": {},
   "outputs": [
    {
     "data": {
      "text/plain": [
       "[[0, 14, 56, 10, 53, 46, 66, 42, 62, 75, 27, 38, 35, 57],\n",
       " [14, 0, 42, 16, 39, 32, 60, 36, 48, 69, 13, 30, 41, 51],\n",
       " [56, 42, 0, 50, 31, 18, 54, 32, 26, 63, 29, 24, 47, 45],\n",
       " [10, 16, 50, 0, 53, 40, 76, 52, 56, 85, 23, 46, 25, 67],\n",
       " [53, 39, 31, 53, 0, 13, 37, 29, 57, 58, 30, 15, 78, 26],\n",
       " [46, 32, 18, 40, 13, 0, 36, 22, 44, 51, 19, 8, 65, 27],\n",
       " [66, 60, 54, 76, 37, 36, 0, 24, 80, 21, 53, 30, 101, 11],\n",
       " [42, 36, 32, 52, 29, 22, 24, 0, 56, 33, 29, 14, 77, 15],\n",
       " [62, 48, 26, 56, 57, 44, 80, 56, 0, 89, 35, 50, 53, 71],\n",
       " [75, 69, 63, 85, 58, 51, 21, 33, 89, 0, 62, 43, 110, 32],\n",
       " [27, 13, 29, 23, 30, 19, 53, 29, 35, 62, 0, 23, 48, 44],\n",
       " [38, 30, 24, 46, 15, 8, 30, 14, 50, 43, 23, 0, 71, 21],\n",
       " [35, 41, 47, 25, 78, 65, 101, 77, 53, 110, 48, 71, 0, 92],\n",
       " [57, 51, 45, 67, 26, 27, 11, 15, 71, 32, 44, 21, 92, 0]]"
      ]
     },
     "execution_count": 28,
     "metadata": {},
     "output_type": "execute_result"
    }
   ],
   "source": [
    "df = pd.read_csv('./data/distance_matrix_scm.csv', index_col=None)\n",
    "\n",
    "dfl = df.values.tolist()\n",
    "\n",
    "# Truck capacityz\n",
    "truck_capacity = 1400\n",
    "\n",
    "# Starting point\n",
    "depot = 0\n",
    "\n",
    "dfl"
   ]
  },
  {
   "cell_type": "code",
   "execution_count": null,
   "metadata": {},
   "outputs": [],
   "source": []
  }
 ],
 "metadata": {
  "kernelspec": {
   "display_name": "Python 3",
   "language": "python",
   "name": "python3"
  },
  "language_info": {
   "codemirror_mode": {
    "name": "ipython",
    "version": 3
   },
   "file_extension": ".py",
   "mimetype": "text/x-python",
   "name": "python",
   "nbconvert_exporter": "python",
   "pygments_lexer": "ipython3",
   "version": "3.12.6"
  }
 },
 "nbformat": 4,
 "nbformat_minor": 2
}
